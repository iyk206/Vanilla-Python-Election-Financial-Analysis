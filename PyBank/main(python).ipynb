{
 "cells": [
  {
   "cell_type": "code",
   "execution_count": 72,
   "metadata": {},
   "outputs": [],
   "source": [
    "#importing libraries\n",
    "\n",
    "import pathlib\n",
    "import pandas\n",
    "import csv"
   ]
  },
  {
   "cell_type": "code",
   "execution_count": 73,
   "metadata": {},
   "outputs": [],
   "source": [
    "# Set path for both importing and exporting in the future\n",
    "csv_path = pathlib.Path(\"Resources/budget_data.csv\")\n",
    "csv_output = pathlib.Path(\"analysis/financial_analysis.txt\")"
   ]
  },
  {
   "cell_type": "code",
   "execution_count": 74,
   "metadata": {},
   "outputs": [],
   "source": [
    "#Set empty list where values will be stored\n",
    "total_month = 0\n",
    "month_of_change = []\n",
    "net_changes = []\n",
    "max_increase = [\"\", 0]\n",
    "min_change = [\"\", 0]\n",
    "net = 0"
   ]
  },
  {
   "cell_type": "code",
   "execution_count": 75,
   "metadata": {},
   "outputs": [],
   "source": [
    "#Use with open to read the csvfile, and use csv reader to read through each lines\n",
    "with open(csv_path) as csvfile:\n",
    "    csvreader = csv.reader(csvfile, delimiter =\",\")\n",
    "    header = next(csvreader)\n",
    "    firstrow =next(csvreader)\n",
    "    total_month = total_month +1\n",
    "    net = net + int(firstrow[1])\n",
    "    previous_net = firstrow[1]\n",
    "    for row in csvreader:\n",
    "        total_month= total_month + 1\n",
    "        net= net + int(row[1])\n",
    "        \n",
    "        net_change = int(row[1]) - int(previous_net)\n",
    "        previous_net = int(row[1])\n",
    "        net_changes.append(net_change)\n",
    "        month_of_change = month_of_change + [row[0]]\n",
    "        \n",
    "        if net_change > max_increase[1]:\n",
    "            max_increase[0] = row[0]\n",
    "            max_increase[1] = net_change\n",
    "        \n",
    "        if net_change < min_change[1]:\n",
    "            min_change[0] = row[0]\n",
    "            min_change[1] = net_change"
   ]
  },
  {
   "cell_type": "code",
   "execution_count": 76,
   "metadata": {},
   "outputs": [
    {
     "name": "stdout",
     "output_type": "stream",
     "text": [
      "Financial Analysis\n",
      "----------------------------\n",
      "Total Months: 86\n",
      "Total: $ 38382578\n",
      "Average Change : $ -2315.12 \n",
      "Greatest Increase in Profits: Feb-2012 ($1926159)\n",
      "Greatest Decrease in Profits: Sep-2013 ($-2196167)\n"
     ]
    }
   ],
   "source": [
    "#calculate average change and print/export the results\n",
    "average_change = sum(net_changes)/ (total_month -1)\n",
    "average_change = format(average_change, '.2f')\n",
    "output=(\n",
    "    \"Financial Analysis\" '\\n'\n",
    "    \"----------------------------\" '\\n'\n",
    "    f\"Total Months: {total_month}\" '\\n'\n",
    "    f\"Total: $ {net}\" '\\n'\n",
    "    f\"Average Change : $ {average_change} \" '\\n'\n",
    "    f\"Greatest Increase in Profits: {max_increase[0]} (${max_increase[1]})\" '\\n'\n",
    "    f\"Greatest Decrease in Profits: {min_change[0]} (${min_change[1]})\" \n",
    ")\n",
    "print(output)"
   ]
  },
  {
   "cell_type": "code",
   "execution_count": 77,
   "metadata": {},
   "outputs": [],
   "source": [
    "with open(csv_output, 'w') as export_txt:\n",
    "    export_txt.write(output)"
   ]
  },
  {
   "cell_type": "code",
   "execution_count": null,
   "metadata": {},
   "outputs": [],
   "source": []
  },
  {
   "cell_type": "code",
   "execution_count": null,
   "metadata": {},
   "outputs": [],
   "source": []
  }
 ],
 "metadata": {
  "kernelspec": {
   "display_name": "Python 3",
   "language": "python",
   "name": "python3"
  },
  "language_info": {
   "codemirror_mode": {
    "name": "ipython",
    "version": 3
   },
   "file_extension": ".py",
   "mimetype": "text/x-python",
   "name": "python",
   "nbconvert_exporter": "python",
   "pygments_lexer": "ipython3",
   "version": "3.7.4"
  }
 },
 "nbformat": 4,
 "nbformat_minor": 4
}
