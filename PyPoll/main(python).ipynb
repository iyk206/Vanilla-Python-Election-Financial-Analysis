{
 "cells": [
  {
   "cell_type": "code",
   "execution_count": 193,
   "metadata": {},
   "outputs": [],
   "source": [
    "#import readers. Also wanted to see how the data looked like, so i imported pandas as well\n",
    "import pathlib\n",
    "import csv\n",
    "import pandas as pd"
   ]
  },
  {
   "cell_type": "code",
   "execution_count": 194,
   "metadata": {},
   "outputs": [],
   "source": [
    "#Set the path for both importing and exporting my csv and text file\n",
    "csvpath = pathlib.Path(\"Resources/election_data.csv\")\n",
    "txtpath = pathlib.Path(\"analysis/election_results.txt\")"
   ]
  },
  {
   "cell_type": "code",
   "execution_count": 195,
   "metadata": {},
   "outputs": [
    {
     "data": {
      "text/html": [
       "<div>\n",
       "<style scoped>\n",
       "    .dataframe tbody tr th:only-of-type {\n",
       "        vertical-align: middle;\n",
       "    }\n",
       "\n",
       "    .dataframe tbody tr th {\n",
       "        vertical-align: top;\n",
       "    }\n",
       "\n",
       "    .dataframe thead th {\n",
       "        text-align: right;\n",
       "    }\n",
       "</style>\n",
       "<table border=\"1\" class=\"dataframe\">\n",
       "  <thead>\n",
       "    <tr style=\"text-align: right;\">\n",
       "      <th></th>\n",
       "      <th>Voter ID</th>\n",
       "      <th>County</th>\n",
       "      <th>Candidate</th>\n",
       "    </tr>\n",
       "  </thead>\n",
       "  <tbody>\n",
       "    <tr>\n",
       "      <td>0</td>\n",
       "      <td>12864552</td>\n",
       "      <td>Marsh</td>\n",
       "      <td>Khan</td>\n",
       "    </tr>\n",
       "    <tr>\n",
       "      <td>1</td>\n",
       "      <td>17444633</td>\n",
       "      <td>Marsh</td>\n",
       "      <td>Correy</td>\n",
       "    </tr>\n",
       "    <tr>\n",
       "      <td>2</td>\n",
       "      <td>19330107</td>\n",
       "      <td>Marsh</td>\n",
       "      <td>Khan</td>\n",
       "    </tr>\n",
       "    <tr>\n",
       "      <td>3</td>\n",
       "      <td>19865775</td>\n",
       "      <td>Queen</td>\n",
       "      <td>Khan</td>\n",
       "    </tr>\n",
       "    <tr>\n",
       "      <td>4</td>\n",
       "      <td>11927875</td>\n",
       "      <td>Marsh</td>\n",
       "      <td>Khan</td>\n",
       "    </tr>\n",
       "  </tbody>\n",
       "</table>\n",
       "</div>"
      ],
      "text/plain": [
       "   Voter ID County Candidate\n",
       "0  12864552  Marsh      Khan\n",
       "1  17444633  Marsh    Correy\n",
       "2  19330107  Marsh      Khan\n",
       "3  19865775  Queen      Khan\n",
       "4  11927875  Marsh      Khan"
      ]
     },
     "execution_count": 195,
     "metadata": {},
     "output_type": "execute_result"
    }
   ],
   "source": [
    "# see the head of my dataframe\n",
    "df = pd.read_csv(csvpath)\n",
    "df.head()"
   ]
  },
  {
   "cell_type": "code",
   "execution_count": 196,
   "metadata": {},
   "outputs": [
    {
     "data": {
      "text/plain": [
       "array(['Khan', 'Correy', 'Li', \"O'Tooley\"], dtype=object)"
      ]
     },
     "execution_count": 196,
     "metadata": {},
     "output_type": "execute_result"
    }
   ],
   "source": [
    "#I was able to find the unique candidates by using .unique() in pandas, but since I wanted to use vanilla python instead, I ended up taking a different approach.\n",
    "df[\"Candidate\"].unique()"
   ]
  },
  {
   "cell_type": "code",
   "execution_count": 197,
   "metadata": {},
   "outputs": [],
   "source": [
    "#This list will store all of the lines in the 3rd column in our data file\n",
    "my_list = []"
   ]
  },
  {
   "cell_type": "code",
   "execution_count": 198,
   "metadata": {},
   "outputs": [],
   "source": [
    "#loop through the csv file and store every single values in the 3rd column\n",
    "with open(csvpath) as csvfile:\n",
    "    \n",
    "    csvreader = csv.reader(csvfile)\n",
    "    header = next(csvreader)\n",
    "    for row in csvreader:\n",
    "        my_list.append(row[2])\n",
    "            "
   ]
  },
  {
   "cell_type": "code",
   "execution_count": 199,
   "metadata": {},
   "outputs": [
    {
     "name": "stdout",
     "output_type": "stream",
     "text": [
      "{'Khan', 'Correy', \"O'Tooley\", 'Li'}\n"
     ]
    }
   ],
   "source": [
    "#By converting the list to a set, I was able to come up with list of candidates without using pandas\n",
    "myset = set(my_list)\n",
    "print(myset)"
   ]
  },
  {
   "cell_type": "code",
   "execution_count": 200,
   "metadata": {},
   "outputs": [],
   "source": [
    "#Empty lists that will contail all the values found in row 3\n",
    "Khan = []\n",
    "O_Tooley = []\n",
    "Li = []\n",
    "Correy = []"
   ]
  },
  {
   "cell_type": "code",
   "execution_count": 201,
   "metadata": {},
   "outputs": [],
   "source": [
    "#I can run the with loop again with a for loop, and this time, I used conditionals to sort out all the matching values to be stored in the given lists\n",
    "with open(csvpath) as csvfile:\n",
    "    csvreader = csv.reader(csvfile)\n",
    "    for row in csvreader:\n",
    "        if row[2] == \"Khan\":\n",
    "            Khan.append(row[2])\n",
    "        elif row[2] == \"Correy\":\n",
    "            Correy.append(row[2])      \n",
    "        elif row[2] == \"O'Tooley\":\n",
    "            O_Tooley.append(row[2])\n",
    "        elif row[2] == \"Li\":\n",
    "            Li.append(row[2])"
   ]
  },
  {
   "cell_type": "code",
   "execution_count": 202,
   "metadata": {},
   "outputs": [
    {
     "data": {
      "text/plain": [
       "'63.000'"
      ]
     },
     "execution_count": 202,
     "metadata": {},
     "output_type": "execute_result"
    }
   ],
   "source": [
    "# Calculation of vote and percent received and the total vote count\n",
    "#First I used def to define an iterative task of taking len of each variables\n",
    "def vote_count(x):\n",
    "    return len(x)\n",
    "\n",
    "Khan_vote =len(Khan)\n",
    "O_Tooley_vote =len(O_Tooley)\n",
    "Li_vote = len(Li)\n",
    "Correy_vote = len(Correy)\n",
    "\n",
    "# Calculate the total votes by adding up all the votes\n",
    "total = Khan_vote + O_Tooley_vote + Li_vote + Correy_vote\n",
    "\n",
    "# Then I used def to define an iterative task of dividing by total and multiplying by 100\n",
    "# I included round() to round to the nearest whole number\n",
    "def percent_vote(x):\n",
    "    return x / total * 100\n",
    "Khan_percent = round(percent_vote(Khan_vote))\n",
    "O_Tooley_percent = round(percent_vote(O_Tooley_vote))\n",
    "Li_percent = round(percent_vote(Li_vote))\n",
    "Correy_percent = round(percent_vote(Correy_vote))\n",
    "\n",
    "#Then I used def to define a function to return all values with 3 decimal points, which will result in 3 zeros at the end of each values\n",
    "def add_float(x):\n",
    "    return format(x, '.3f')\n",
    "Khan_percent = add_float(Khan_percent)\n",
    "O_Tooley_percent = add_float(O_Tooley_percent)\n",
    "Li_percent = add_float(Li_percent)\n",
    "Correy_percent = add_float(Correy_percent)\n",
    "Khan_percent"
   ]
  },
  {
   "cell_type": "code",
   "execution_count": 203,
   "metadata": {},
   "outputs": [
    {
     "name": "stdout",
     "output_type": "stream",
     "text": [
      "Khan\n"
     ]
    },
    {
     "data": {
      "text/plain": [
       "2218231"
      ]
     },
     "execution_count": 203,
     "metadata": {},
     "output_type": "execute_result"
    }
   ],
   "source": [
    "#I tried using dictionary for practice. By putting the vote counts into the dictionary with each candidates name, I was able to calculate the winner of the election\n",
    "candidates = {'Khan': len(Khan), \"Li\": len(Li), \"O'Tooley\": len(O_Tooley), \"Correy\": len(Correy)}\n",
    "winner = max(candidates, key= candidates.get)\n",
    "print(winner)\n",
    "max(Khan_vote, Li_vote, Correy_vote, O_Tooley_vote)"
   ]
  },
  {
   "cell_type": "code",
   "execution_count": 204,
   "metadata": {},
   "outputs": [],
   "source": [
    "#printing the output\n",
    "output = (\n",
    "    f\"Election Results\" '\\n'\n",
    "    f\"-----------------------------\" '\\n'\n",
    "    f\"Khan: {Khan_percent}% ({Khan_vote})\" '\\n'\n",
    "    f\"Correy: {Correy_percent}% ({Correy_vote})\" '\\n'\n",
    "    f\"Li: {Li_percent}% ({Li_vote})\" '\\n'\n",
    "    f\"O'Tooley: {O_Tooley_percent}% ({O_Tooley_vote})\" '\\n'\n",
    "    f\"-----------------------------\" '\\n'\n",
    "    f\"Winner : {winner}\" '\\n'\n",
    "    f\"-----------------------------\"\n",
    ")"
   ]
  },
  {
   "cell_type": "code",
   "execution_count": 205,
   "metadata": {},
   "outputs": [
    {
     "name": "stdout",
     "output_type": "stream",
     "text": [
      "Election Results\n",
      "-----------------------------\n",
      "Khan: 63.000% (2218231)\n",
      "Correy: 20.000% (704200)\n",
      "Li: 14.000% (492940)\n",
      "O'Tooley: 3.000% (105630)\n",
      "-----------------------------\n",
      "Winner : Khan\n",
      "-----------------------------\n"
     ]
    }
   ],
   "source": [
    "print(output)"
   ]
  },
  {
   "cell_type": "code",
   "execution_count": 206,
   "metadata": {},
   "outputs": [],
   "source": [
    "#Export my results to the previously provided path in cell 2\n",
    "with open(txtpath, 'w') as export_txt:\n",
    "    export_txt.write(output)"
   ]
  },
  {
   "cell_type": "code",
   "execution_count": null,
   "metadata": {},
   "outputs": [],
   "source": []
  }
 ],
 "metadata": {
  "kernelspec": {
   "display_name": "Python 3",
   "language": "python",
   "name": "python3"
  },
  "language_info": {
   "codemirror_mode": {
    "name": "ipython",
    "version": 3
   },
   "file_extension": ".py",
   "mimetype": "text/x-python",
   "name": "python",
   "nbconvert_exporter": "python",
   "pygments_lexer": "ipython3",
   "version": "3.7.4"
  }
 },
 "nbformat": 4,
 "nbformat_minor": 4
}
